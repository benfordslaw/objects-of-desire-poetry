{
 "cells": [
  {
   "cell_type": "code",
   "execution_count": 1,
   "metadata": {},
   "outputs": [],
   "source": [
    "import gzip, json\n",
    "all_lines = []\n",
    "for line in gzip.open(\"gutenberg-poetry-v001.ndjson.gz\"):\n",
    "    all_lines.append(json.loads(line.strip()))"
   ]
  },
  {
   "cell_type": "code",
   "execution_count": 2,
   "metadata": {},
   "outputs": [],
   "source": [
    "with open(\"gutenberg-poetry.txt\", \"a\") as fh:\n",
    "    for i in range(len(all_lines)):\n",
    "        fh.write(list(all_lines[i].values())[0] + \" \")"
   ]
  },
  {
   "cell_type": "code",
   "execution_count": 3,
   "metadata": {},
   "outputs": [],
   "source": [
    "txt = open(\"gutenberg-poetry.txt\", \"r\").read()"
   ]
  },
  {
   "cell_type": "code",
   "execution_count": 4,
   "metadata": {},
   "outputs": [],
   "source": [
    "love = [\n",
    "    \"love\", \"desire\", \"want\", \"appreciate\", \"need\", \"connect\", \"introduce\", \"search\", \"yearn\", \n",
    "    \"crave\", \"wish\", \"seek\", \"treasure\", \"cherish\", \"prize\", \"value\", \"admire\", \"revere\", \"venerate\",\n",
    "    \"adore\", \"ache\", \"covet\", \"hunger\", \"long\", \"lust\", \"thirst\", \"demand\", \"require\", \"lack\"\n",
    "]\n",
    "\n",
    "loving = [\n",
    "    \"loving\", \"desiring\", \"wanting\", \"appreciating\", \"needing\", \"connecting\", \"introducing\", \"searching\", \"yearning\",\n",
    "    \"craving\", \"wishing\", \"seeking\", \"treasuring\", \"cherishing\", \"prizeing\", \"valuing\", \"admiring\", \"revering\",\n",
    "    \"venerating\", \"adoring\", \"aching\", \"coveting\", \"hungering\", \"longing\", \"lusting\", \"thirsting\", \"demanding\", \n",
    "    \"requiring\", \"lacking\"\n",
    "]"
   ]
  },
  {
   "cell_type": "code",
   "execution_count": 5,
   "metadata": {
    "scrolled": true
   },
   "outputs": [],
   "source": [
    "import re\n",
    "sentences = re.compile(\"(?<!\\w\\.\\w.)(?<![A-Z][a-z]\\.)(?<=\\.|\\?|\\;|\\!)\\s\").split(txt)"
   ]
  },
  {
   "cell_type": "code",
   "execution_count": 6,
   "metadata": {},
   "outputs": [
    {
     "data": {
      "text/plain": [
       "164389"
      ]
     },
     "execution_count": 7,
     "metadata": {},
     "output_type": "execute_result"
    }
   ],
   "source": [
    "search_terms = love + loving\n",
    "docSentences = []\n",
    "for sentence in sentences:\n",
    "    for w in search_terms:\n",
    "        if w in sentence:\n",
    "            docSentences.append(sentence)\n",
    "            break;"
   ]
  },
  {
   "cell_type": "code",
   "execution_count": 8,
   "metadata": {},
   "outputs": [],
   "source": [
    "import spacy\n",
    "nlp = spacy.load('en_core_web_md')"
   ]
  },
  {
   "cell_type": "code",
   "execution_count": 9,
   "metadata": {},
   "outputs": [],
   "source": [
    "def flatten_subtree(st):\n",
    "    return ''.join([w.text_with_ws for w in list(st)]).strip()"
   ]
  },
  {
   "cell_type": "code",
   "execution_count": 10,
   "metadata": {},
   "outputs": [],
   "source": [
    "with open(\"object-of-desire.txt\", \"a\") as fh:\n",
    "    for sentence in docSentences:\n",
    "        doc = nlp(sentence)\n",
    "        for word in doc:\n",
    "            if(word.pos_ == \"VERB\" and (word.lemma_ in love or str(word) in loving)):\n",
    "                for child in list(word.children):\n",
    "                    if child.dep_ == \"dobj\":\n",
    "                        fh.write(str(flatten_subtree(child.subtree)) + '\\n')"
   ]
  }
 ],
 "metadata": {
  "kernelspec": {
   "display_name": "Python 3",
   "language": "python",
   "name": "python3"
  },
  "language_info": {
   "codemirror_mode": {
    "name": "ipython",
    "version": 3
   },
   "file_extension": ".py",
   "mimetype": "text/x-python",
   "name": "python",
   "nbconvert_exporter": "python",
   "pygments_lexer": "ipython3",
   "version": "3.8.5"
  }
 },
 "nbformat": 4,
 "nbformat_minor": 4
}
