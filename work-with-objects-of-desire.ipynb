{
 "cells": [
  {
   "cell_type": "code",
   "execution_count": 76,
   "metadata": {},
   "outputs": [],
   "source": [
    "import random"
   ]
  },
  {
   "cell_type": "code",
   "execution_count": 95,
   "metadata": {},
   "outputs": [],
   "source": [
    "desires = open(\"object-of-desire.txt\").read().split('\\n')"
   ]
  },
  {
   "cell_type": "code",
   "execution_count": 152,
   "metadata": {},
   "outputs": [],
   "source": [
    "desires = [desire.lower().replace('thee', 'you') for desire in desires]"
   ]
  },
  {
   "cell_type": "code",
   "execution_count": 32,
   "metadata": {
    "scrolled": true
   },
   "outputs": [
    {
     "data": {
      "text/plain": [
       "24754"
      ]
     },
     "execution_count": 32,
     "metadata": {},
     "output_type": "execute_result"
    }
   ],
   "source": [
    "len(desires)"
   ]
  },
  {
   "cell_type": "code",
   "execution_count": 154,
   "metadata": {},
   "outputs": [
    {
     "name": "stdout",
     "output_type": "stream",
     "text": [
      "Do you have him?\n",
      "    or his nursling?\n",
      "    or him?\n",
      "    or myself?\n",
      "    or the sport?\n",
      "    or you?\n",
      "    or the lea,?\n",
      "    or mean?\n",
      "    or a task like that?\n",
      "    or your bounty?\n",
      "    or one?\n",
      "    or the rose?\n",
      "    or them?\n",
      "    or it?\n",
      "    or his courage?\n",
      "    or you?\n"
     ]
    }
   ],
   "source": [
    "print(\"Do you have \" + random.choice(desires).lower() + \"?\")\n",
    "for i in range(15):\n",
    "    print(\"    or \" + random.choice(desires).lower() + \"?\")"
   ]
  },
  {
   "cell_type": "code",
   "execution_count": 79,
   "metadata": {},
   "outputs": [],
   "source": [
    "import tracery"
   ]
  },
  {
   "cell_type": "code",
   "execution_count": 184,
   "metadata": {},
   "outputs": [
    {
     "name": "stdout",
     "output_type": "stream",
     "text": [
      "\n",
      "Do you have more blind and her station?\n",
      "    or a girdle 'round the narrow sphere and you?\n",
      "    or atrides and no such spur?\n",
      "\n",
      "What about me and my face and thy wounded heart's despair and you?\n",
      "What about that and , all debate,?\n",
      "    or you and the old speech and thy cure, my words and a receipt for that popular mystery known to the world as a woman of charm and you, ann maria smith and woman and one another and her heart?\n",
      "    or the best and whom and the lowest end of human life and what and another's arms?\n",
      "What about thy bounty?\n",
      "What about you?\n",
      "    or thy truth and the frantic mother?\n",
      "    or eternal sunshine?\n",
      "    or that?\n",
      "What about you and the fields below from his white-oak perch,?\n",
      "    or our fun and him and no siddons' powers in southern's song and feelers and whom?\n",
      "What about the bombazine and her?\n",
      "What about her years and years and my love and it?\n",
      "\n",
      "Do you have it?\n",
      "\n",
      "What about more and the earnest efforts of your hearts and hands, urged by all motives that can prompt the heart to prayer and toil and manhood's manliest part and a reward?\n",
      "    or you and one purpose?\n",
      "    or me and no aid from men and you and the valley?\n"
     ]
    }
   ],
   "source": [
    "rules = {\n",
    "    \"desire\" : desires,\n",
    "    \"and\": [\" and #desire##and#\", \"?\"],\n",
    "    \"or\": [\"\\n    or #desire##and##or#\", \"\"],\n",
    "    \"do_you\": [\"\\nDo you have #desire##and##or##do_you#\", \"\\n#what_about#\"],\n",
    "    \"what_about\": [\"\\nWhat about #desire##and##or##what_about#\", \"\"]\n",
    "}\n",
    "\n",
    "for i in range(2):\n",
    "    grammar = tracery.Grammar(rules)\n",
    "    print(grammar.flatten(\"#do_you#\"))"
   ]
  }
 ],
 "metadata": {
  "kernelspec": {
   "display_name": "Python 3",
   "language": "python",
   "name": "python3"
  },
  "language_info": {
   "codemirror_mode": {
    "name": "ipython",
    "version": 3
   },
   "file_extension": ".py",
   "mimetype": "text/x-python",
   "name": "python",
   "nbconvert_exporter": "python",
   "pygments_lexer": "ipython3",
   "version": "3.8.5"
  }
 },
 "nbformat": 4,
 "nbformat_minor": 4
}
